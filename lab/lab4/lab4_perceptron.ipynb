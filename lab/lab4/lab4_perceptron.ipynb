{
  "cells": [
    {
      "cell_type": "markdown",
      "id": "5729e1c9-2880-40d3-b723-cce02077ca01",
      "metadata": {
        "id": "5729e1c9-2880-40d3-b723-cce02077ca01"
      },
      "source": [
        "#### read the data.csv file and visualize its data\n",
        "\n",
        "- read the data.csv file\n",
        "- split it into 20% test and 80% train data\n",
        "-shuffle train data\n",
        "- visualize the train data"
      ]
    },
    {
      "cell_type": "code",
      "execution_count": null,
      "id": "c2cb3ef2-9ba6-4a16-8ad8-01f253b94adb",
      "metadata": {
        "id": "c2cb3ef2-9ba6-4a16-8ad8-01f253b94adb"
      },
      "outputs": [],
      "source": []
    },
    {
      "cell_type": "markdown",
      "id": "b7b014e7-fa55-495e-87d2-f956a155f90c",
      "metadata": {
        "id": "b7b014e7-fa55-495e-87d2-f956a155f90c"
      },
      "source": [
        "#### define the perceptron class"
      ]
    },
    {
      "cell_type": "code",
      "execution_count": null,
      "id": "14d5e718-b253-438b-a3d9-c7f350074cf9",
      "metadata": {
        "id": "14d5e718-b253-438b-a3d9-c7f350074cf9"
      },
      "outputs": [],
      "source": [
        "class Perceptron :\n",
        "    def __init__(self, num_features) :\n",
        "        pass\n",
        "    # compute the output of the net for each x sample\n",
        "    def forward(self,x) :\n",
        "        pass\n",
        "\n",
        "    # for each sample compute the error and return it\n",
        "    def loss(self,x, y) :\n",
        "        pass\n",
        "\n",
        "    def train(self, x,y, epochs) :\n",
        "        pass\n",
        "\n",
        "    def evaluate(self, x, y) :\n",
        "        pass"
      ]
    },
    {
      "cell_type": "markdown",
      "id": "f32465e0-7849-48b9-8435-64f51055db80",
      "metadata": {
        "id": "f32465e0-7849-48b9-8435-64f51055db80"
      },
      "source": [
        "### plot decision boundry for train and test data suparetly"
      ]
    },
    {
      "cell_type": "code",
      "execution_count": null,
      "id": "4d881472-8262-4a13-9995-1f1cec6b9d1a",
      "metadata": {
        "id": "4d881472-8262-4a13-9995-1f1cec6b9d1a"
      },
      "outputs": [],
      "source": []
    },
    {
      "cell_type": "markdown",
      "id": "d2d478fd-1e35-4b67-b43e-02fd32eef17e",
      "metadata": {
        "id": "d2d478fd-1e35-4b67-b43e-02fd32eef17e"
      },
      "source": [
        "### use perceptron for breast cancer prediction\n",
        "\n",
        "- Select two features 'mean radius' and 'mean texture' for visualization purposes.\n",
        "- Split the dataset into training and testing sets.\n"
      ]
    },
    {
      "cell_type": "code",
      "execution_count": null,
      "id": "eaca2fb6-d5a6-4772-b464-cf910989d833",
      "metadata": {
        "id": "eaca2fb6-d5a6-4772-b464-cf910989d833"
      },
      "outputs": [],
      "source": [
        "from sklearn.datasets import load_breast_cancer\n",
        "data = load_breast_cancer()\n",
        "\n"
      ]
    },
    {
      "cell_type": "markdown",
      "id": "b5758f62-233c-4d59-bb0a-083d9b7e9f59",
      "metadata": {
        "id": "b5758f62-233c-4d59-bb0a-083d9b7e9f59"
      },
      "source": [
        "### plot number of mis classification versus number of epochs\n",
        "As you remember, samples are not linearly separable. We can expect number of misclassifications not to converge to 0\n"
      ]
    },
    {
      "cell_type": "code",
      "execution_count": null,
      "id": "782be7ff-fbdf-4a7f-9784-82338e9c291b",
      "metadata": {
        "id": "782be7ff-fbdf-4a7f-9784-82338e9c291b"
      },
      "outputs": [],
      "source": []
    },
    {
      "cell_type": "markdown",
      "id": "7010e148-6447-4d0b-86b7-40c1de8a0a44",
      "metadata": {
        "id": "7010e148-6447-4d0b-86b7-40c1de8a0a44"
      },
      "source": [
        "### plot perceptron decision boundry for breast cancer dataset"
      ]
    },
    {
      "cell_type": "code",
      "execution_count": null,
      "id": "9819d2e9-2af5-4993-b6c7-a3d4bc7ec7ff",
      "metadata": {
        "id": "9819d2e9-2af5-4993-b6c7-a3d4bc7ec7ff"
      },
      "outputs": [],
      "source": []
    }
  ],
  "metadata": {
    "kernelspec": {
      "display_name": "Python 3 (ipykernel)",
      "language": "python",
      "name": "python3"
    },
    "language_info": {
      "codemirror_mode": {
        "name": "ipython",
        "version": 3
      },
      "file_extension": ".py",
      "mimetype": "text/x-python",
      "name": "python",
      "nbconvert_exporter": "python",
      "pygments_lexer": "ipython3",
      "version": "3.11.11"
    },
    "colab": {
      "provenance": []
    }
  },
  "nbformat": 4,
  "nbformat_minor": 5
}