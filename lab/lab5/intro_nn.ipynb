{
 "cells": [
  {
   "cell_type": "markdown",
   "id": "690a3094-595f-450e-95a1-7b61c4db1b16",
   "metadata": {},
   "source": [
    "## In this lab we are going to training a NN using PyTorch"
   ]
  },
  {
   "cell_type": "markdown",
   "id": "0cf2acf6-488e-4a62-993d-e27b130fb78f",
   "metadata": {},
   "source": [
    "PyTorch provides the elegantly designed modules and classes \n",
    "- torch.nn\n",
    "- torch.optim\n",
    "- Dataset\n",
    "- DataLoader\n",
    "to help you create and train neural networks. \n",
    "You need to understand exactly what they're doing to fully utilize their power and customize them for your problem.\n",
    "First of all, have PyTorch installed and get familiar with the basics of tensor operations. (look at the notebook tensor.ipynb in the lab5 folder)\n",
    "(If you’re familiar with Numpy array operations, you’ll find the PyTorch tensor operations nearly identical)"
   ]
  },
  {
   "cell_type": "code",
   "execution_count": null,
   "id": "816dade8-65ca-43e6-a5eb-c545e4def64b",
   "metadata": {},
   "outputs": [],
   "source": [
    "#install Pytorch\n",
    "!pip install torch"
   ]
  },
  {
   "cell_type": "markdown",
   "id": "82730425-8f87-4e62-a240-07b080498fd9",
   "metadata": {},
   "source": [
    "PyTorch classes for createing and training neural networks :\n",
    "- torch.nn\n",
    "- torch.optim\n",
    "- Dataset\n",
    "- DataLoader\n"
   ]
  },
  {
   "cell_type": "code",
   "execution_count": 1,
   "id": "53565c22-52ca-441b-ad7f-8d8481c10375",
   "metadata": {},
   "outputs": [],
   "source": [
    "import torch"
   ]
  },
  {
   "cell_type": "markdown",
   "id": "a78fc4f9-d26d-4a47-90b7-a2b06f9fea2c",
   "metadata": {},
   "source": [
    "## Dataset"
   ]
  },
  {
   "cell_type": "markdown",
   "id": "5353a940-faba-4cee-a0e7-fd157b410e4d",
   "metadata": {},
   "source": [
    "In torchvision library there is a module datasets, that contain some datasets such as MNIST. \n",
    "MINST dataset contain handwrittern digits. \n",
    "\n",
    "We will use datasets from torchvision to load the MNIST handwritten digits dataset. You can find the list of datasets available on torchvision here. "
   ]
  },
  {
   "cell_type": "code",
   "execution_count": 2,
   "id": "b00666fa-0813-4603-ab21-f56b9aae5d17",
   "metadata": {},
   "outputs": [
    {
     "name": "stdout",
     "output_type": "stream",
     "text": [
      "['CIFAR10', 'CIFAR100', 'CLEVRClassification', 'CREStereo', 'Caltech101', 'Caltech256', 'CarlaStereo', 'CelebA', 'Cityscapes', 'CocoCaptions', 'CocoDetection', 'Country211', 'DTD', 'DatasetFolder', 'EMNIST', 'ETH3DStereo', 'EuroSAT', 'FER2013', 'FGVCAircraft', 'FakeData', 'FallingThingsStereo', 'FashionMNIST', 'Flickr30k', 'Flickr8k', 'Flowers102', 'FlyingChairs', 'FlyingThings3D', 'Food101', 'GTSRB', 'HD1K', 'HMDB51', 'INaturalist', 'ImageFolder', 'ImageNet', 'Imagenette', 'InStereo2k', 'KMNIST', 'Kinetics', 'Kitti', 'Kitti2012Stereo', 'Kitti2015Stereo', 'KittiFlow', 'LFWPairs', 'LFWPeople', 'LSUN', 'LSUNClass', 'MNIST', 'Middlebury2014Stereo', 'MovingMNIST', 'Omniglot', 'OxfordIIITPet', 'PCAM', 'PhotoTour', 'Places365', 'QMNIST', 'RenderedSST2', 'SBDataset', 'SBU', 'SEMEION', 'STL10', 'SUN397', 'SVHN', 'SceneFlowStereo', 'Sintel', 'SintelStereo', 'StanfordCars', 'UCF101', 'USPS', 'VOCDetection', 'VOCSegmentation', 'VisionDataset', 'WIDERFace', '__all__', '__builtins__', '__cached__', '__doc__', '__file__', '__getattr__', '__loader__', '__name__', '__package__', '__path__', '__spec__', '_optical_flow', '_stereo_matching', 'caltech', 'celeba', 'cifar', 'cityscapes', 'clevr', 'coco', 'country211', 'dtd', 'eurosat', 'fakedata', 'fer2013', 'fgvc_aircraft', 'flickr', 'flowers102', 'folder', 'food101', 'gtsrb', 'hmdb51', 'imagenet', 'imagenette', 'inaturalist', 'kinetics', 'kitti', 'lfw', 'lsun', 'mnist', 'moving_mnist', 'omniglot', 'oxford_iiit_pet', 'pcam', 'phototour', 'places365', 'rendered_sst2', 'sbd', 'sbu', 'semeion', 'stanford_cars', 'stl10', 'sun397', 'svhn', 'ucf101', 'usps', 'utils', 'video_utils', 'vision', 'voc', 'widerface']\n"
     ]
    }
   ],
   "source": [
    "import  torchvision.datasets as datasets\n",
    "print(dir(datasets)) # List of datasets available on torchvision"
   ]
  },
  {
   "cell_type": "markdown",
   "id": "9cfb889d-bf07-47fd-91df-2693d61911c5",
   "metadata": {},
   "source": [
    "Now let's take a look at the parameters we set:\n",
    "\n",
    "root: sets the directory we store and load our data from.\n",
    "train: indicates whether we want the training dataset or the test dataset.,\n",
    "transform: allows us to apply transformations to our data; here we are only going to convert the data to a tensor so that it works with PyTorch; however, in future notebooks, you will see more complicated transformations.\n",
    "The transform attribute indicates the transformation applied to each row of data in the dataset. In the code below, each data point is a PIL image converted to a tensor."
   ]
  },
  {
   "cell_type": "code",
   "execution_count": 3,
   "id": "07d2762d-71a0-4ba7-b673-0a5d4f0cbac9",
   "metadata": {},
   "outputs": [
    {
     "name": "stdout",
     "output_type": "stream",
     "text": [
      "Training data: Dataset MNIST\n",
      "    Number of datapoints: 60000\n",
      "    Root location: data\n",
      "    Split: Train\n",
      "    StandardTransform\n",
      "Transform: ToTensor()\n",
      "\n",
      "Test data: Dataset MNIST\n",
      "    Number of datapoints: 10000\n",
      "    Root location: data\n",
      "    Split: Test\n",
      "    StandardTransform\n",
      "Transform: ToTensor()\n"
     ]
    }
   ],
   "source": [
    "# Download training data from open datasets.\n",
    "from torchvision.transforms import transforms\n",
    "training_data = datasets.MNIST(\n",
    "    root=\"data\",\n",
    "    train=True,\n",
    "    download=True,\n",
    "    transform=transforms.ToTensor(),\n",
    ")\n",
    "\n",
    "# Download test data from open datasets.\n",
    "test_data = datasets.MNIST(\n",
    "    root=\"data\",\n",
    "    train=False,\n",
    "    download=True,\n",
    "    transform=transforms.ToTensor(),\n",
    ")\n",
    "\n",
    "\n",
    "print(f\"Training data: {training_data}\\n\")\n",
    "print(f\"Test data: {test_data}\")"
   ]
  },
  {
   "cell_type": "markdown",
   "id": "1fe03e06-bff7-401a-a56a-3dc196ff2216",
   "metadata": {},
   "source": [
    "As you can see there are 60000 training samples in the training dataset and there are 10000 samples in the test dataset"
   ]
  },
  {
   "cell_type": "markdown",
   "id": "e7429252-60ef-4e76-b452-11c0562631c6",
   "metadata": {},
   "source": [
    "### Data loader"
   ]
  },
  {
   "cell_type": "markdown",
   "id": "8591d9bb-14c0-4463-a05f-442f3f87dd3b",
   "metadata": {},
   "source": [
    "To make loading and working with the data easier, we are going to use DataLoader from torch.utils.data. The DataLoader takes in a dataset and a batch_size parameter, and allows us to iterate over the dataset. Here we do one iteration just to see the data shapes of the fist batch in test data\n"
   ]
  },
  {
   "cell_type": "code",
   "execution_count": 4,
   "id": "862f146a-e000-4223-b600-43f6ffd0cc1f",
   "metadata": {},
   "outputs": [
    {
     "name": "stdout",
     "output_type": "stream",
     "text": [
      "Shape of X [N, C, H, W]: torch.Size([64, 1, 28, 28])\n",
      "Shape of y: torch.Size([64]) torch.int64\n"
     ]
    }
   ],
   "source": [
    "from torch.utils.data import DataLoader\n",
    "\n",
    "batch_size = 64\n",
    "\n",
    "# Create data loaders.\n",
    "train_dataloader = DataLoader(training_data, batch_size=batch_size)\n",
    "test_dataloader = DataLoader(test_data, batch_size=batch_size)\n",
    "\n",
    "# Iterate over the data\n",
    "for x, y in test_dataloader:\n",
    "    print(f\"Shape of X [N, C, H, W]: {x.shape}\")\n",
    "    print(f\"Shape of y: {y.shape} {y.dtype}\")\n",
    "    break"
   ]
  },
  {
   "cell_type": "markdown",
   "id": "eafdba6c-e85c-4cfb-ae1a-64551ef96ef6",
   "metadata": {},
   "source": [
    "As you can see the xs are of shape [64, 1, 28, 28] which means we have a batch of 64 images, each with 1 channel which means the images are grayscale (for example colorful images have 3 channels of red, blue and green or RGB), and of size 28x28 pixels.\n",
    "\n",
    "Similarly the ys are of shape [64] which means we have a batch of 64 labels. In the next section we will learn more about these labels.\n",
    "\n"
   ]
  },
  {
   "cell_type": "markdown",
   "id": "c3ec835a-33e5-48ca-8223-1a4d2fa88290",
   "metadata": {},
   "source": [
    "### Visualization"
   ]
  },
  {
   "cell_type": "markdown",
   "id": "0cfde299-6f1d-4edc-a3d8-48b4ec5b43ee",
   "metadata": {},
   "source": [
    "Here we will take a look at single batch of data and visualize it.\n"
   ]
  },
  {
   "cell_type": "code",
   "execution_count": 5,
   "id": "517f1450-c109-4fe0-9cd8-bb5c9c30a543",
   "metadata": {},
   "outputs": [
    {
     "data": {
      "image/png": "[encoded data removed]",
      "text/plain": [
       "<Figure size 1000x1000 with 64 Axes>"
      ]
     },
     "metadata": {},
     "output_type": "display_data"
    }
   ],
   "source": [
    "from matplotlib import pyplot as plt\n",
    "\n",
    "images, labels = next(iter(train_dataloader))\n",
    "\n",
    "fig, axes = plt.subplots(8,8, figsize=(10,10))\n",
    "for i,ax in enumerate(axes.flat):\n",
    "    ax.imshow(images[i].squeeze(), cmap='gray')\n",
    "    ax.set_title(f'Label: {labels[i].item()}')\n",
    "    ax.axis('off')\n",
    "\n",
    "plt.tight_layout()\n",
    "plt.show()\n",
    "\n",
    "#visualize(images, labels)"
   ]
  },
  {
   "cell_type": "markdown",
   "id": "4d84d4d0-5aae-4540-912b-b75215d5b794",
   "metadata": {},
   "source": [
    "### Device"
   ]
  },
  {
   "cell_type": "code",
   "execution_count": 7,
   "id": "6d411808-3a72-4cc5-9a80-f16f0104aa20",
   "metadata": {},
   "outputs": [
    {
     "name": "stdout",
     "output_type": "stream",
     "text": [
      "Using cpu device\n"
     ]
    }
   ],
   "source": [
    "# Get cpu, gpu or mps device for training.\n",
    "device = (\n",
    "    \"cuda\"\n",
    "    if torch.cuda.is_available()\n",
    "    else \"mps\"\n",
    "    if torch.backends.mps.is_available()\n",
    "    else \"cpu\"\n",
    ")\n",
    "print(f\"Using {device} device\")"
   ]
  },
  {
   "cell_type": "markdown",
   "id": "7adde513-d3e9-4dd8-a3d1-a97a2ccc11ef",
   "metadata": {},
   "source": [
    "### Model"
   ]
  },
  {
   "cell_type": "markdown",
   "id": "7ab11c65-640d-44b1-9d6f-25b1c1085402",
   "metadata": {},
   "source": [
    "Here we define our model. \n",
    "Recall that each batch of image has a shape of [64, 1, 28, 28]. F8]. \n",
    "For now we only want to use Linear layers so we must flatten the inputs so that we can pass it to the linear layers. The nn.Flatten() module allows us to do this."
   ]
  },
  {
   "cell_type": "markdown",
   "id": "ad48751d-9973-4673-be16-ce6f47746c1c",
   "metadata": {},
   "source": [
    "The torch.nn.Module class provides a convenient way to create custom nueral network modules.\n",
    "It includes some key features that are important for building neural networks, such as the ability to keep track of learnable parameters and the ability to perform automatic differentiation (for computing gradients during training).\n",
    "\n",
    "By creating a new class that inherits from torch.nn.Module, and defining an __init__ method to initialize the module's parameters, and forward method that perform the computation, we can create our own custom module. These custom modules can be used just like any of the built-in PyTorch modules, such as torch.nn.Module or torch.nn.Conv2d, and can be included in a larger model architecture.\n",
    "\n",
    "Creating a custom module can be useful in many situations. For example, we might create a custom module to implement a novel layer or activation function that is not included in PyTorch's built-in modules. Or we could create a custom module that represents a more complex model, such as a sequence-to-sequence model, composed of multiple layers and other modules.\n",
    "\n",
    "When creating a custom data model using a custom module in PyTorch, we will need to define a subclass of the torch.nn.Module class and define the __init__() and forward() methods.\n",
    "\n",
    "- init__(): The __init__ method is used to initialize the module's parameters. This method is called when the module is created, and it allows we to set up any internal state that the module needs. For example, we might use this method to initialize the weights of a neural network or to create other modules that the module needs in order to function.\n",
    "- forward(): The forward method is used to perform the computation that the module represents. This method takes in one or more input tensors, performs computations on them, and returns the output tensors. It is a forward pass of the module.\n"
   ]
  },
  {
   "cell_type": "markdown",
   "id": "ff29eeec-cd60-4165-aa7a-122c9e88fe35",
   "metadata": {},
   "source": [
    "### create the module :\n",
    "In this step, we define a custom module called NeuralNetwork by creating a new class that inherits from the nn.Module base class. \n",
    "In the __init__ method, define the architecture of the model by creating the necessary layers.\n",
    "Here, we create :\n",
    "- a flatten layer (A flatten layer is used to convert a multi-dimensional tensor (like a 2D or 3D array) into a 1D vector. This is typically done before passing data to fully connected (dense) layers, which expect 1D input.)\n",
    "- nn.Sequential is a convenience class in PyTorch that allows you to build neural networks by stacking layers in a sequential order. It simplifies the process of defining models where data flows through layers linearly, one after the other.\n",
    "\n",
    "\n",
    "- The layers in sequential layer :\n",
    "    - nn.Linear : a fully connected (dense) layer. It performs a linear transformation on its input.\n",
    "    - nn.Relu : is an activation function in PyTorch that stands for Rectified Linear Unit.\n",
    "\n",
    "### Defining the forward pass\n",
    "Here we define the forward pass of the model within the class by implementing the forward method. In this example, the input is passed through the first linear layer, then a relu activation function is applied to it, and then it is passed through the second linear layer.\n"
   ]
  },
  {
   "cell_type": "code",
   "execution_count": 8,
   "id": "d8965147-1c16-4ae2-9ba2-deae52e19a16",
   "metadata": {},
   "outputs": [],
   "source": [
    "from torch import nn\n",
    "\n",
    "class NueralNetwork(nn.Module) :\n",
    "    def __init__(self) :\n",
    "        super().__init__()\n",
    "        self.flatten = nn.Flatten()\n",
    "        self.linear_relu_stack = nn.Sequential(\n",
    "            nn.Linear(28*28, 512),\n",
    "            nn.ReLU(),\n",
    "            nn.Linear(512, 512),\n",
    "            nn.ReLU(),\n",
    "            nn.Linear(512, 10)\n",
    "        )\n",
    "    def forward(self,x) :\n",
    "        x = self.flatten(x)\n",
    "        logits = self.linear_relu_stack(x)\n",
    "        return logits\n"
   ]
  },
  {
   "cell_type": "markdown",
   "id": "864d7e1e-4d1f-4bc8-83d6-e78bbd32d8f1",
   "metadata": {},
   "source": [
    "### initialize our model"
   ]
  },
  {
   "cell_type": "code",
   "execution_count": 10,
   "id": "53b9a503-5a8e-4fce-b7f2-199ab07b32b6",
   "metadata": {},
   "outputs": [
    {
     "name": "stdout",
     "output_type": "stream",
     "text": [
      "NueralNetwork(\n",
      "  (flatten): Flatten(start_dim=1, end_dim=-1)\n",
      "  (linear_relu_stack): Sequential(\n",
      "    (0): Linear(in_features=784, out_features=512, bias=True)\n",
      "    (1): ReLU()\n",
      "    (2): Linear(in_features=512, out_features=512, bias=True)\n",
      "    (3): ReLU()\n",
      "    (4): Linear(in_features=512, out_features=10, bias=True)\n",
      "  )\n",
      ")\n"
     ]
    }
   ],
   "source": [
    "model = NueralNetwork().to(device)\n",
    "print(model)"
   ]
  },
  {
   "cell_type": "markdown",
   "id": "6e5e1b6f-5140-4b5c-a2dc-f5f70bba508e",
   "metadata": {},
   "source": [
    "### Loss Function\n",
    "\n",
    "Since we are trying to classify the handwritten digits, we are going to use the cross entropy loss. You can see the list of loss functions in PyTorch here (https://docs.pytorch.org/docs/stable/nn.html#loss-functions)"
   ]
  },
  {
   "cell_type": "code",
   "execution_count": 11,
   "id": "a617311d-e78c-4f32-87d1-76a216570e7c",
   "metadata": {},
   "outputs": [],
   "source": [
    "loss_fn = nn.CrossEntropyLoss()"
   ]
  },
  {
   "cell_type": "markdown",
   "id": "ea976a3a-c8d7-481c-bd6b-5a443b665b32",
   "metadata": {},
   "source": [
    "### Optimizer\n",
    "\n",
    "Next we need to setup an optimizer for training our model. We use stochastic gradient descent so we must use the SGD module from torch.optim. We must pass the model.parameters() to the SGD optimizer and set its learning rate lr=1e-3. You can learn about the optimizers available on PyTorch here (https://docs.pytorch.org/docs/stable/optim.html)"
   ]
  },
  {
   "cell_type": "code",
   "execution_count": 12,
   "id": "9ce6e49e-7d82-45af-ab1b-27f142e20546",
   "metadata": {},
   "outputs": [],
   "source": [
    "optimizer = torch.optim.SGD(model.parameters(), lr=1e-3)"
   ]
  },
  {
   "cell_type": "markdown",
   "id": "ec2aa3f0-ceae-46e3-9309-841dbf7a2572",
   "metadata": {},
   "source": [
    "### Training\n",
    "To train the model we first set the number of epochs. For each epoch we then iterate over the entire training data and update the model parameters. For each batch of data, we must first move the data to same device as the network, then we predict the output of the model, calculate the loss, perform backward pass, update parameters, and reset the gradients.\n",
    "\n",
    "To monitor training, we use trange from tqdm which performs similar to range but allows us to have a progress bar pbar which lets us display useful information."
   ]
  },
  {
   "cell_type": "code",
   "execution_count": 17,
   "id": "55635f66-66d2-45ee-bd57-d73e71667b7e",
   "metadata": {},
   "outputs": [
    {
     "name": "stderr",
     "output_type": "stream",
     "text": [
      "Loss = 0.176: 100%|█████████████████████████████| 30/30 [19:40<00:00, 39.36s/it]\n"
     ]
    }
   ],
   "source": [
    "from tqdm import trange\n",
    "\n",
    "# Number of epochs we wish to train the model\n",
    "n_epochs = 30\n",
    "\n",
    "for _ in (pbar := trange(n_epochs)):\n",
    "    # Iterate over the data\n",
    "    for x, y in train_dataloader:\n",
    "        # Move the datapoints to same device as the model\n",
    "        x, y = x.to(device), y.to(device)\n",
    "        # Clear the gradients\n",
    "        optimizer.zero_grad()\n",
    "        # Predict the output and perform the forward pass\n",
    "        pred = model(x)\n",
    "        # Compute prediction error\n",
    "        loss = loss_fn(pred, y)\n",
    "        # Backpropagation\n",
    "        loss.backward()\n",
    "        # Update the model weights\n",
    "        optimizer.step()\n",
    "        # Update the progress bar\n",
    "        pbar.set_description(f'Loss = {loss.item():.3f}')"
   ]
  },
  {
   "cell_type": "markdown",
   "id": "384ce02b-dfe3-4f73-a65d-02366157e258",
   "metadata": {},
   "source": [
    "### Evaluation\n",
    "Finally we can evaluate the trained model. We will start by evaluating the model on the test dataset. Here we use torch.no_grad() since we don't need the gradients. We iterate over the entire test dataset and print the accuracy of our model on this dataset."
   ]
  },
  {
   "cell_type": "code",
   "execution_count": null,
   "id": "87a1e29f-4c34-4123-872b-fb0fe0d6d616",
   "metadata": {},
   "outputs": [],
   "source": [
    "# Store the number of correctly classified and total labels\n",
    "correct, total = 0, 0\n",
    "\n",
    "# Disable gradient calculation\n",
    "with torch.no_grad():\n",
    "    # Iterate over the test data\n",
    "    for x, y in test_dataloader:\n",
    "        # Move the datapoints to same device as the model\n",
    "        x, y = x.to(device), y.to(device)\n",
    "        # Predict the output\n",
    "        logits = model(x)\n",
    "        # Get the predicted label\n",
    "        pred = torch.argmax(logits, axis=1)\n",
    "        # Update the number of correclty classified labels\n",
    "        correct += sum(pred == y).item()\n",
    "        # Update the number of total labels\n",
    "        total += pred.shape[0]\n",
    "\n",
    "print(f'Accuracy: {100 * correct / total:.2f}%')"
   ]
  },
  {
   "cell_type": "markdown",
   "id": "27e3e91b-b494-44da-a94c-0a2a863b375f",
   "metadata": {},
   "source": [
    "Let's visuzlie a batch to compare the predictions and the true labels."
   ]
  },
  {
   "cell_type": "code",
   "execution_count": null,
   "id": "6d788818-b5fb-4698-b0ff-1fc8299e8a5c",
   "metadata": {},
   "outputs": [],
   "source": [
    "images, labels = next(iter(test_dataloader))\n",
    "preds = torch.argmax(model(images.to(device)), axis=1).cpu()\n",
    "\n",
    "visualize_predictions(images, labels, preds)"
   ]
  },
  {
   "cell_type": "markdown",
   "id": "9dd622db-9f6d-49d3-a42f-eec4205b0253",
   "metadata": {},
   "source": [
    "To get a better sense of our model, we can plot it's confusion matrix."
   ]
  },
  {
   "cell_type": "code",
   "execution_count": null,
   "id": "bf6c4a59-7aeb-4403-8261-cf2390ad172b",
   "metadata": {},
   "outputs": [],
   "source": [
    "plot_conf_mat(model, test_dataloader, device)"
   ]
  },
  {
   "cell_type": "markdown",
   "id": "80686642-cc14-43c8-b099-3e17b395e110",
   "metadata": {},
   "source": [
    "### Experiments"
   ]
  },
  {
   "cell_type": "markdown",
   "id": "43f64adc-1c27-48e4-ab55-307756f12cfa",
   "metadata": {},
   "source": [
    "Here we will take a look at different optimizers and how they affect training and convergence. \n",
    "test the SGD, AdaGrad, RMSProb and Adam functions on the MNIST dataset (for 20 epochs) and plot the loss and accuracy for each batch and compare the different functions"
   ]
  },
  {
   "cell_type": "code",
   "execution_count": null,
   "id": "4b701b80-e289-45b5-9b62-32847b9cdabd",
   "metadata": {},
   "outputs": [],
   "source": []
  },
  {
   "cell_type": "markdown",
   "id": "63e493d2-5f72-419b-beb4-7d69c68ea389",
   "metadata": {},
   "source": [
    "### MedMNIST \n",
    "a large-scale MNIST-like dataset collection of standardized biomedical images, including 12 datasets for 2D and 6 datasets for 3D.\n",
    "or more information from this dataset see : \n",
    "- https://www.nature.com/articles/s41597-022-01721-8\n",
    "- https://medmnist.com/#:~:text=Covering%20primary%20data%20modalities%20in,regression%20and%20multi%2Dlabel).\n"
   ]
  },
  {
   "cell_type": "code",
   "execution_count": 20,
   "id": "80eecda9-c507-4f02-a0e8-210089b50dde",
   "metadata": {},
   "outputs": [],
   "source": [
    "#install MedMNIST using the instruction bellow\n",
    "# pip install --upgrade git+https://github.com/MedMNIST/MedMNIST.git"
   ]
  },
  {
   "cell_type": "markdown",
   "id": "81335dc2-95b8-4e3a-a71a-a221c3a6a398",
   "metadata": {},
   "source": [
    "use the cell bellow to read data from MedMNIST"
   ]
  },
  {
   "cell_type": "code",
   "execution_count": 25,
   "id": "97de3a28-3563-4e5d-9cac-c9872c27f99b",
   "metadata": {},
   "outputs": [
    {
     "name": "stdout",
     "output_type": "stream",
     "text": [
      "Downloading https://zenodo.org/records/10519652/files/pneumoniamnist.npz?download=1 to /home/mansoori/.medmnist/pneumoniamnist.npz\n"
     ]
    },
    {
     "name": "stderr",
     "output_type": "stream",
     "text": [
      "100%|███████████████████████████████████████| 4.17M/4.17M [00:06<00:00, 634kB/s]\n"
     ]
    },
    {
     "name": "stdout",
     "output_type": "stream",
     "text": [
      "Using downloaded and verified file: /home/mansoori/.medmnist/pneumoniamnist.npz\n",
      "Using downloaded and verified file: /home/mansoori/.medmnist/pneumoniamnist.npz\n",
      "Dataset PneumoniaMNIST of size 28 (pneumoniamnist)\n",
      "    Number of datapoints: 4708\n",
      "    Root location: /home/mansoori/.medmnist\n",
      "    Split: train\n",
      "    Task: binary-class\n",
      "    Number of channels: 1\n",
      "    Meaning of labels: {'0': 'normal', '1': 'pneumonia'}\n",
      "    Number of samples: {'train': 4708, 'val': 524, 'test': 624}\n",
      "    Description: The PneumoniaMNIST is based on a prior dataset of 5,856 pediatric chest X-Ray images. The task is binary-class classification of pneumonia against normal. We split the source training set with a ratio of 9:1 into training and validation set and use its source validation set as the test set. The source images are gray-scale, and their sizes are (384−2,916)×(127−2,713). We center-crop the images and resize them into 1×28×28.\n",
      "    License: CC BY 4.0\n"
     ]
    }
   ],
   "source": [
    "from medmnist import PneumoniaMNIST\n",
    "\n",
    "train_data = PneumoniaMNIST(split='train', transform=transforms.ToTensor(), download=True)\n",
    "val_data = PneumoniaMNIST(split='val', transform=transforms.ToTensor(), download=True)\n",
    "test_data = PneumoniaMNIST(split='test', transform=transforms.ToTensor(), download=True)\n",
    "\n",
    "print(train_data)\n",
    "\n"
   ]
  },
  {
   "cell_type": "markdown",
   "id": "8cbd729f-0dfa-4a9e-a5bb-b5faeffd5723",
   "metadata": {},
   "source": [
    "- visualize the first batch of data\n",
    "- train a NN model\n",
    "- plot the loss and accuracy for 20 epochs\n",
    "- test the model"
   ]
  },
  {
   "cell_type": "code",
   "execution_count": null,
   "id": "8a0b7242-3375-4283-9fcb-ca8f1ec68e54",
   "metadata": {},
   "outputs": [],
   "source": []
  }
 ],
 "metadata": {
  "kernelspec": {
   "display_name": "Python 3 (ipykernel)",
   "language": "python",
   "name": "python3"
  },
  "language_info": {
   "codemirror_mode": {
    "name": "ipython",
    "version": 3
   },
   "file_extension": ".py",
   "mimetype": "text/x-python",
   "name": "python",
   "nbconvert_exporter": "python",
   "pygments_lexer": "ipython3",
   "version": "3.11.11"
  }
 },
 "nbformat": 4,
 "nbformat_minor": 5
}
