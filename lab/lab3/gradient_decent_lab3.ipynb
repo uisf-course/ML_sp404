{
  "cells": [
    {
      "cell_type": "markdown",
      "id": "66f0e976-83cd-48bb-a63c-bc10dfd08140",
      "metadata": {
        "id": "66f0e976-83cd-48bb-a63c-bc10dfd08140"
      },
      "source": [
        "### Generate Dataset"
      ]
    },
    {
      "cell_type": "markdown",
      "id": "2f92081b-1ab6-42de-ae34-51f817505473",
      "metadata": {
        "id": "2f92081b-1ab6-42de-ae34-51f817505473"
      },
      "source": [
        "write the function bellow for creating num_sample sample between range_start and range_end.\n",
        "\n",
        "y come from a line with slop=4 and intercept = 5\n",
        "for creating Y use Gussion noise with std = noise_std\n",
        "\n",
        "use linspace for creating X\n"
      ]
    },
    {
      "cell_type": "code",
      "execution_count": null,
      "id": "4c43fb8f-667f-43d7-a368-d042c16d96fb",
      "metadata": {
        "id": "4c43fb8f-667f-43d7-a368-d042c16d96fb"
      },
      "outputs": [],
      "source": [
        "def generate_dataset(range_start, range_end, num_sample, noise_std = 5) :\n",
        "\n",
        ""
      ]
    },
    {
      "cell_type": "markdown",
      "id": "eb821243-b7ce-4222-aa99-c9b229dfb2d4",
      "metadata": {
        "id": "eb821243-b7ce-4222-aa99-c9b229dfb2d4"
      },
      "source": [
        "Create 50 sample between -10 and 10 as X\n",
        "Use Gussian noise with std=5 for creating y"
      ]
    },
    {
      "cell_type": "code",
      "execution_count": null,
      "id": "e4724f7e-3aa4-4d7b-9078-4bfb82f630bc",
      "metadata": {
        "id": "e4724f7e-3aa4-4d7b-9078-4bfb82f630bc"
      },
      "outputs": [],
      "source": []
    },
    {
      "cell_type": "markdown",
      "id": "ea4270e8-1679-4d80-bbaf-eeb347158b83",
      "metadata": {
        "id": "ea4270e8-1679-4d80-bbaf-eeb347158b83"
      },
      "source": [
        "visualize the data in an scatter plot"
      ]
    },
    {
      "cell_type": "code",
      "execution_count": null,
      "id": "33959261-08f9-494b-a16f-007240a99fef",
      "metadata": {
        "id": "33959261-08f9-494b-a16f-007240a99fef"
      },
      "outputs": [],
      "source": []
    },
    {
      "cell_type": "markdown",
      "id": "2e62db11-96a9-400c-9865-bfcb827e7808",
      "metadata": {
        "id": "2e62db11-96a9-400c-9865-bfcb827e7808"
      },
      "source": [
        "write the function bellow to compute the h_w or y_hat,\n",
        "implement it with inner product. suppose dimensions of X are [numFeatures, numSamples]"
      ]
    },
    {
      "cell_type": "code",
      "execution_count": null,
      "id": "ca924264-ea6a-4607-935f-dd9418fdc3cb",
      "metadata": {
        "id": "ca924264-ea6a-4607-935f-dd9418fdc3cb"
      },
      "outputs": [],
      "source": [
        "def h_w(X,w) :\n",
        "  pass\n",
        ""
      ]
    },
    {
      "cell_type": "markdown",
      "id": "540376db-e813-4cda-9f5f-1550347d154c",
      "metadata": {
        "id": "540376db-e813-4cda-9f5f-1550347d154c"
      },
      "source": [
        "cost function : get X, y , w as input and return the J(w) = MSE"
      ]
    },
    {
      "cell_type": "code",
      "execution_count": null,
      "id": "9ef9ee62-51e6-43d2-993c-30f83f4394b6",
      "metadata": {
        "id": "9ef9ee62-51e6-43d2-993c-30f83f4394b6"
      },
      "outputs": [],
      "source": []
    },
    {
      "cell_type": "markdown",
      "id": "569eecd8-b8fd-47a8-86ad-c3ad089c9d3b",
      "metadata": {
        "id": "569eecd8-b8fd-47a8-86ad-c3ad089c9d3b"
      },
      "source": [
        "### Visualize cost function"
      ]
    },
    {
      "cell_type": "markdown",
      "id": "41370d4a-7626-4cb5-a42b-7532c1355e10",
      "metadata": {
        "id": "41370d4a-7626-4cb5-a42b-7532c1355e10"
      },
      "source": [
        "plot 3D surfaces:\n",
        "the function to plot the 3D surfaces is plot_surface(X,Y,Z), where X and Y are the output arrays from meshgrid, and Z=f(X,Y) or Z(i,j)=f(X(i,j),Y(i,j))\n",
        "\n",
        "for plotting in 3d the axes must projected to 3d with the instruction bellow :\n",
        "ax = plt.axes(projection='3d')\n",
        "and then use the plot_surface function of the ax to plot 3d surface"
      ]
    },
    {
      "cell_type": "code",
      "execution_count": null,
      "id": "100a5410-6488-41da-96ef-9cdd87e419b5",
      "metadata": {
        "id": "100a5410-6488-41da-96ef-9cdd87e419b5"
      },
      "outputs": [],
      "source": []
    },
    {
      "cell_type": "markdown",
      "id": "1b80a19f-65f7-436a-b60f-a1476685f057",
      "metadata": {
        "id": "1b80a19f-65f7-436a-b60f-a1476685f057"
      },
      "source": [
        "visualize cost function using log scale"
      ]
    },
    {
      "cell_type": "code",
      "execution_count": null,
      "id": "d0b5a4cf-353f-49a4-8f1b-610052b73ace",
      "metadata": {
        "id": "d0b5a4cf-353f-49a4-8f1b-610052b73ace"
      },
      "outputs": [],
      "source": []
    },
    {
      "cell_type": "markdown",
      "id": "acc20656-2661-4271-bfa7-597c93fe65d1",
      "metadata": {
        "id": "acc20656-2661-4271-bfa7-597c93fe65d1"
      },
      "source": [
        "### Gradient Descent:"
      ]
    },
    {
      "cell_type": "markdown",
      "id": "248ad715-7bce-49e2-89e7-9a47fe7a5174",
      "metadata": {
        "id": "248ad715-7bce-49e2-89e7-9a47fe7a5174"
      },
      "source": [
        "gradient_descent function get X,y,w,alpha,num_iters as input and return final w, cost_history and w_history as output"
      ]
    },
    {
      "cell_type": "code",
      "execution_count": null,
      "id": "bd520270-e997-4048-98de-2bdc0ce4fb80",
      "metadata": {
        "id": "bd520270-e997-4048-98de-2bdc0ce4fb80"
      },
      "outputs": [],
      "source": [
        "def gradient_descent(X, y, w, alpha, num_iters):\n",
        "    #note to use the instruction bellow to store the Ws\n",
        "    #w_history.append(w.copy())\n",
        "  return w, cost_history, w_history\n",
        "\n",
        ""
      ]
    },
    {
      "cell_type": "markdown",
      "id": "6dd58e95-6d1f-4b47-8a05-e1afdb969494",
      "metadata": {
        "id": "6dd58e95-6d1f-4b47-8a05-e1afdb969494"
      },
      "source": [
        "initialize w to [0,0] and run gradient_descent for alpha = 0.05 and 500 iteration"
      ]
    },
    {
      "cell_type": "code",
      "execution_count": null,
      "id": "a2f93f8f-18fc-4ca1-91f5-49fd05784c09",
      "metadata": {
        "id": "a2f93f8f-18fc-4ca1-91f5-49fd05784c09"
      },
      "outputs": [],
      "source": []
    },
    {
      "cell_type": "markdown",
      "id": "686389ef-7947-444a-b723-790bc6a2eb42",
      "metadata": {
        "id": "686389ef-7947-444a-b723-790bc6a2eb42"
      },
      "source": [
        "### Plot GD Progression (without labels for lines, different alphas(alpha here is plot function argument))"
      ]
    },
    {
      "cell_type": "code",
      "execution_count": null,
      "id": "135ad4dd-639b-4cd2-b408-b91baaaaf4a8",
      "metadata": {
        "id": "135ad4dd-639b-4cd2-b408-b91baaaaf4a8"
      },
      "outputs": [],
      "source": [
        "\n",
        "plt.scatter(X, y, color='blue', label='Actual Data')\n",
        "\n",
        "# Plot lines for every 50th step with increasing alpha\n",
        "for idx, w in enumerate(w_history[::num_iters // 100]):\n",
        "    alpha = 0.15 + 0.85*(idx) / 100  # Gradually increase alpha for each line\n",
        "    plt.plot(X, h_w(X, w), color='red', alpha=alpha)\n",
        "\n",
        "# Final line in bold\n",
        "\n",
        "\n",
        "plt.title(\"GD Progression - Linear Regression\")\n",
        "plt.xlabel(\"$x$\")\n",
        "plt.ylabel(\"$y$\")\n",
        "plt.legend()\n",
        "plt.show()\n"
      ]
    },
    {
      "cell_type": "markdown",
      "id": "283f0909-1c7e-4360-9902-98e07399416a",
      "metadata": {
        "id": "283f0909-1c7e-4360-9902-98e07399416a"
      },
      "source": [
        "### show gradient path"
      ]
    },
    {
      "cell_type": "code",
      "execution_count": null,
      "id": "9bc5393f-e096-4043-9923-4e653194c399",
      "metadata": {
        "id": "9bc5393f-e096-4043-9923-4e653194c399"
      },
      "outputs": [],
      "source": [
        "\n",
        "fig = plt.figure(figsize=(10, 7))\n",
        "ax = fig.add_subplot(111, projection='3d')\n",
        "W0, W1 = np.meshgrid(w0_vals, w1_vals)\n",
        "ax.plot_surface(W0, W1, np.log(J_vals), cmap='viridis', alpha=0.5)\n",
        "ax.set_xlabel('w0')\n",
        "ax.set_ylabel('w1')\n",
        "ax.set_zlabel('log(J(w))')\n",
        "plt.title(\"Cost Function Surface (Log Scale)\")\n",
        "\n",
        "# Plot the points on the 3D surface for each GD iteration\n",
        "w_history_array = np.array(w_history)  # Convert list to array for easier slicing\n",
        "w0_history = w_history_array[:, 0]\n",
        "w1_history = w_history_array[:, 1]\n",
        "cost_history_log = np.log(np.array(cost_history))  # Log of the cost history\n",
        "\n",
        "# Plot the path of gradient descent in 3D\n",
        "num_iters = 500\n",
        "ax.plot(w0_history[:num_iters], w1_history[:num_iters], cost_history_log, marker='o', color='r', label='GD Path', markersize=3)\n",
        "\n",
        "plt.legend()\n",
        "plt.show()\n",
        "\n",
        "plt.show()\n"
      ]
    },
    {
      "cell_type": "code",
      "execution_count": null,
      "id": "88837262-7202-4173-a777-b636f9199053",
      "metadata": {
        "id": "88837262-7202-4173-a777-b636f9199053"
      },
      "outputs": [],
      "source": []
    }
  ],
  "metadata": {
    "kernelspec": {
      "display_name": "Python 3 (ipykernel)",
      "language": "python",
      "name": "python3"
    },
    "language_info": {
      "codemirror_mode": {
        "name": "ipython",
        "version": 3
      },
      "file_extension": ".py",
      "mimetype": "text/x-python",
      "name": "python",
      "nbconvert_exporter": "python",
      "pygments_lexer": "ipython3",
      "version": "3.11.11"
    },
    "colab": {
      "provenance": []
    }
  },
  "nbformat": 4,
  "nbformat_minor": 5
}