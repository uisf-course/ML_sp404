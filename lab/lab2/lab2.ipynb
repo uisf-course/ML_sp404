{
 "cells": [
  {
   "cell_type": "markdown",
   "id": "c6627e4e-672b-4f09-bc13-297d815124e9",
   "metadata": {},
   "source": [
    "## create dataset"
   ]
  },
  {
   "cell_type": "code",
   "execution_count": 2,
   "id": "79b08ee8-8a4b-4225-9fb8-606cdbfa1ecf",
   "metadata": {},
   "outputs": [],
   "source": [
    "def generate_dataset(range_start, range_end, num_samples=1000, noise_std=10.0):\n",
    "    pass"
   ]
  },
  {
   "cell_type": "markdown",
   "id": "48e32cfb-75d3-4cb1-adc9-4c1b09914ddf",
   "metadata": {},
   "source": [
    "### use above function and make dataset and then plot it"
   ]
  },
  {
   "cell_type": "code",
   "execution_count": null,
   "id": "cd2cd63b-1ff2-4066-90e5-6a09e6000910",
   "metadata": {},
   "outputs": [],
   "source": []
  },
  {
   "cell_type": "markdown",
   "id": "d117a8c4-c5a1-4987-aacd-6a7546f764d8",
   "metadata": {},
   "source": [
    "### Train test split"
   ]
  },
  {
   "cell_type": "markdown",
   "id": "4e10b4d9-e366-46d0-bb6a-73960997cd9c",
   "metadata": {},
   "source": [
    "Create these sets:\n",
    "\n",
    "-Train set\n",
    "\n",
    "-In-Range Test Set: This set should contain data within the same range as the training set.\n",
    "\n",
    "-Out-of-Range Test Set: This set should contain data in the range [5,7]."
   ]
  },
  {
   "cell_type": "code",
   "execution_count": null,
   "id": "8944db55-dc73-494c-a955-4e55cc21d946",
   "metadata": {},
   "outputs": [],
   "source": []
  },
  {
   "cell_type": "code",
   "execution_count": null,
   "id": "5bff89d8-9007-416d-b138-93f31d3953b0",
   "metadata": {},
   "outputs": [],
   "source": [
    "### The function return a polynomial model with degree equals degree"
   ]
  },
  {
   "cell_type": "code",
   "execution_count": null,
   "id": "55b72b80-5785-46e2-8b7e-d05bfbcf692d",
   "metadata": {},
   "outputs": [],
   "source": [
    "def train_models(X, y, degree) :\n",
    "    pass"
   ]
  },
  {
   "cell_type": "code",
   "execution_count": null,
   "id": "a0e0fd27-3aef-441a-8f48-f2110f2482b9",
   "metadata": {},
   "outputs": [],
   "source": []
  },
  {
   "cell_type": "markdown",
   "id": "9fc033c1-6b13-4e9a-89dd-7a3fdf5d3641",
   "metadata": {},
   "source": [
    "## Model evaluation"
   ]
  },
  {
   "cell_type": "markdown",
   "id": "c2aa71a4-c7d8-45c2-8400-0422a362485c",
   "metadata": {},
   "source": [
    "For each polynomial degree, compute the MSE on both the in-range test set and the out-of-range test set using the mean_squared_error function from the sklearn library."
   ]
  },
  {
   "cell_type": "code",
   "execution_count": null,
   "id": "61caa49f-d053-49f8-981b-6453ea74107e",
   "metadata": {},
   "outputs": [],
   "source": [
    "def evaluate_models(models, X_test, y_test):\n",
    "    #calculate the MSE for each model in models and store them in a list named losses\n",
    "    # at the ende return the losses"
   ]
  },
  {
   "cell_type": "code",
   "execution_count": null,
   "id": "896bafea-ed05-473a-b5f8-83ca7c246739",
   "metadata": {},
   "outputs": [],
   "source": [
    "# Evaluate models on both the train and the test sets(in range and out range)"
   ]
  },
  {
   "cell_type": "code",
   "execution_count": null,
   "id": "7467fbe4-77d8-49ed-a690-122de66768bb",
   "metadata": {},
   "outputs": [],
   "source": [
    "#visualise the loss of the different model for different sets"
   ]
  },
  {
   "cell_type": "markdown",
   "id": "797e16fc-8215-4c7f-bcf3-6f8f92491f94",
   "metadata": {},
   "source": []
  },
  {
   "cell_type": "code",
   "execution_count": null,
   "id": "a02215ea-fae7-452b-a9e5-88af35ce961a",
   "metadata": {},
   "outputs": [],
   "source": []
  }
 ],
 "metadata": {
  "kernelspec": {
   "display_name": "Python [conda env:base] *",
   "language": "python",
   "name": "conda-base-py"
  },
  "language_info": {
   "codemirror_mode": {
    "name": "ipython",
    "version": 3
   },
   "file_extension": ".py",
   "mimetype": "text/x-python",
   "name": "python",
   "nbconvert_exporter": "python",
   "pygments_lexer": "ipython3",
   "version": "3.12.7"
  }
 },
 "nbformat": 4,
 "nbformat_minor": 5
}
